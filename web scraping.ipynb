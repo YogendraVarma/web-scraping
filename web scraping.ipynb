{
 "cells": [
  {
   "cell_type": "markdown",
   "id": "8632c946",
   "metadata": {},
   "source": [
    "# Web Scrapping Amazon Books with Python using BeautifulSoup and requests"
   ]
  },
  {
   "cell_type": "markdown",
   "id": "2c0d56c6",
   "metadata": {},
   "source": [
    "![](https://i.imgur.com/G8alOBY.jpg)"
   ]
  },
  {
   "cell_type": "markdown",
   "id": "4d0a29d5",
   "metadata": {},
   "source": [
    "Amazon is a tech business based in the United States that specialises in cloud computing, digital streaming, artificial intelligence, and e-commerce. Through its Amazon Prime Video and Audible divisions, Amazon also offers a variety of digital and streaming media. In particular, Kindle e-readers, Echo gadgets, Fire tablets, and Fire TVs are among the consumer electronics that it also makes.\n",
    "\n",
    "An individual can choose from thousands of books on Amazon that cover a wide range of subjects. This project aids the user in searching for and choosing a book of his or her preference as well as navigating through the selection of best-selling books.                                               \n",
    "\n",
    "You can have a look at the amazon bestselling books by visiting [Amazon Books](https://www.amazon.in/gp/bestsellers/books/)\n",
    "\n",
    "We will try to web scrape information like name, author, url and rating of the books from books of various genres from few pages using few libraries like Requests and BeautifulSoup and write the parsed information into a `.csv` file"
   ]
  },
  {
   "cell_type": "markdown",
   "id": "e381baf7",
   "metadata": {},
   "source": [
    "### Introduction to Python"
   ]
  },
  {
   "cell_type": "markdown",
   "id": "99ad746c",
   "metadata": {},
   "source": [
    "Python is a powerful, interactive, object-oriented, and interpreted scripting language. Python has been created to be very readable.\n",
    "It has fewer syntactical structures than other languages and typically employs English keywords rather than punctuation."
   ]
  },
  {
   "cell_type": "markdown",
   "id": "f6b74ea6",
   "metadata": {},
   "source": [
    "### Introduction to Web Scrapping"
   ]
  },
  {
   "cell_type": "markdown",
   "id": "9821243a",
   "metadata": {},
   "source": [
    "The process of creating an agent that can automatically collect, parse, download, and arrange meaningful information from the\n",
    "web is known as web scraping, also known as web data mining or web harvesting. In other words, the web scraping programme will\n",
    "automatically load and extract data from many websites in accordance with our requirements, as opposed to us manually saving \n",
    "the data from websites. \n",
    "\n",
    "Here, in this project, we will try to scrap the amazon best selling books website with python using the library BeautifulSoup and finally converting the extracted data into a csv file."
   ]
  },
  {
   "cell_type": "markdown",
   "id": "36844df8",
   "metadata": {},
   "source": [
    "![](https://i.imgur.com/NCsz2xG.png)"
   ]
  },
  {
   "cell_type": "markdown",
   "id": "362e6a3d",
   "metadata": {},
   "source": [
    "### Steps to be followed"
   ]
  },
  {
   "cell_type": "markdown",
   "id": "b9ee7e65",
   "metadata": {},
   "source": [
    "1) Downloading web pages through the requests library \n",
    "\n",
    "2) Examining a web page's HTML source code    \n",
    "\n",
    "3) Using Beautiful Soup to parse various website sections\n",
    "\n",
    "4) Extract the name, author, url and rating of the books\n",
    "\n",
    "5) Creating CSV files from parsed data\n",
    "\n",
    "\n",
    "   The CSV created contains the information like name, author, url and rating of the books "
   ]
  },
  {
   "cell_type": "markdown",
   "id": "c329b817",
   "metadata": {},
   "source": [
    "### Dictionaries used for Web Scrapping"
   ]
  },
  {
   "cell_type": "markdown",
   "id": "8f6b295b",
   "metadata": {},
   "source": [
    "Requests : Python's requests module enables you to send HTTP requests. A Response Object containing all the response data is returned by the HTTP request.\n",
    "    \n",
    "BeautifulSoup : Python software called Beautiful Soup is used to parse HTML and XML texts. It produces parse trees, which are useful for quickly extracting the data.\n",
    "    \n",
    "Pandas : Pandas is a library for analysing and manipulating data. The data is extracted and stored using it in the desired format. "
   ]
  },
  {
   "cell_type": "markdown",
   "id": "26e1454b",
   "metadata": {},
   "source": [
    "![](https://i.imgur.com/S93dsz3.jpg)"
   ]
  },
  {
   "cell_type": "markdown",
   "id": "91735819",
   "metadata": {},
   "source": [
    "## Downloading web pages through the `requests` library"
   ]
  },
  {
   "cell_type": "markdown",
   "id": "b9b3d4d7",
   "metadata": {},
   "source": [
    "When you use a web browser to access a URL, such as https://www.amazon.in/gp/bestsellers/books/4149807031/ref=zg_bs_pg_2?ie=UTF8&pg=1, the output of the web page the URL corresponds to is downloaded and shown on the screen. We must first use Python to download the web page in order to extract the information from it.\n",
    "\n",
    "For the purpose of downloading web pages from the internet, we'll use the requests library. Installing and importing the library should come first."
   ]
  },
  {
   "cell_type": "markdown",
   "id": "2d4f21fc",
   "metadata": {},
   "source": [
    "`pip` can be used to install the library."
   ]
  },
  {
   "cell_type": "code",
   "execution_count": 1,
   "id": "1ecd670a",
   "metadata": {},
   "outputs": [],
   "source": [
    "# Install the library\n",
    "!pip install requests --upgrade --quiet"
   ]
  },
  {
   "cell_type": "code",
   "execution_count": 2,
   "id": "090ef1ef",
   "metadata": {},
   "outputs": [],
   "source": [
    "# Import the library\n",
    "import requests"
   ]
  },
  {
   "cell_type": "markdown",
   "id": "591e2d71",
   "metadata": {},
   "source": [
    "We can download a web page using the `requests.get` function"
   ]
  },
  {
   "cell_type": "code",
   "execution_count": 3,
   "id": "435766b8",
   "metadata": {},
   "outputs": [],
   "source": [
    "topic_url ='https://www.amazon.in/gp/bestsellers/books/4149807031/ref=zg_bs_pg_2?ie=UTF8&pg=1'"
   ]
  },
  {
   "cell_type": "code",
   "execution_count": 4,
   "id": "f2aa7517",
   "metadata": {},
   "outputs": [],
   "source": [
    "response = requests.get(topic_url)"
   ]
  },
  {
   "cell_type": "code",
   "execution_count": 5,
   "id": "5d83c74b",
   "metadata": {},
   "outputs": [
    {
     "data": {
      "text/plain": [
       "requests.models.Response"
      ]
     },
     "execution_count": 5,
     "metadata": {},
     "output_type": "execute_result"
    }
   ],
   "source": [
    "type(response)"
   ]
  },
  {
   "cell_type": "markdown",
   "id": "c1ebf8a5",
   "metadata": {},
   "source": [
    "Using a status code, requests.get produces a response object that contains the contents of the page as well as some information about the request's success. Visit this page for further information about [HTTP status codes](https://developer.mozilla.org/en-US/docs/Web/HTTP/Status)\n",
    "\n",
    "If the request was successful, `response.status code` is set to a value between 200 and 299"
   ]
  },
  {
   "cell_type": "code",
   "execution_count": 6,
   "id": "8203410c",
   "metadata": {},
   "outputs": [
    {
     "data": {
      "text/plain": [
       "200"
      ]
     },
     "execution_count": 6,
     "metadata": {},
     "output_type": "execute_result"
    }
   ],
   "source": [
    "response.status_code"
   ]
  },
  {
   "cell_type": "markdown",
   "id": "c31eb87b",
   "metadata": {},
   "source": [
    "The `response.text` attribute can be used to obtain the web page's content."
   ]
  },
  {
   "cell_type": "code",
   "execution_count": 7,
   "id": "74c36b9e",
   "metadata": {},
   "outputs": [],
   "source": [
    "page_contents = response.text"
   ]
  },
  {
   "cell_type": "markdown",
   "id": "d1c0bc76",
   "metadata": {},
   "source": [
    "The length of the `page_contents` can be accessed using len()"
   ]
  },
  {
   "cell_type": "code",
   "execution_count": 8,
   "id": "2d4e265e",
   "metadata": {
    "scrolled": true
   },
   "outputs": [
    {
     "data": {
      "text/plain": [
       "303801"
      ]
     },
     "execution_count": 8,
     "metadata": {},
     "output_type": "execute_result"
    }
   ],
   "source": [
    "len(page_contents)"
   ]
  },
  {
   "cell_type": "markdown",
   "id": "1f848f62",
   "metadata": {},
   "source": [
    "There are more than 300,000 characters on the page! Let's look at the webpage's first 1000 characters."
   ]
  },
  {
   "cell_type": "code",
   "execution_count": 9,
   "id": "2aa119f2",
   "metadata": {},
   "outputs": [
    {
     "data": {
      "text/plain": [
       "'<!doctype html><html lang=\"en-in\" class=\"a-no-js\" data-19ax5a9jf=\"dingo\"><!-- sp:feature:head-start -->\\n<head><script>var aPageStart = (new Date()).getTime();</script><meta charset=\"utf-8\"/>\\n<!-- sp:end-feature:head-start -->\\n\\n<!-- sp:feature:cs-optimization -->\\n<meta http-equiv=\\'x-dns-prefetch-control\\' content=\\'on\\'>\\n<link rel=\"dns-prefetch\" href=\"https://images-eu.ssl-images-amazon.com\">\\n<link rel=\"dns-prefetch\" href=\"https://m.media-amazon.com\">\\n<link rel=\"dns-prefetch\" href=\"https://completion.amazon.com\">\\n<!-- sp:end-feature:cs-optimization -->\\n\\n<!-- sp:feature:aui-assets -->\\n<link rel=\"stylesheet\" href=\"https://images-eu.ssl-images-amazon.com/images/I/11EIQ5IGqaL._RC|01ZTHTZObnL.css,41C-I1lXVwL.css,31ufSReDtSL.css,013z33uKh2L.css,017DsKjNQJL.css,0131vqwP5UL.css,41EWOOlBJ9L.css,11TIuySqr6L.css,01ElnPiDxWL.css,11Qjwq-j69L.css,01Dm5eKVxwL.css,01IdKcBuAdL.css,01y-XAlI+2L.css,21P6CS3L9LL.css,01oDR3IULNL.css,41CYNGpGlrL.css,01XPHJk60-L.css,01smHc51S9L.css,21aPhFy+riL.css,11gneA3MtJL.css'"
      ]
     },
     "execution_count": 9,
     "metadata": {},
     "output_type": "execute_result"
    }
   ],
   "source": [
    "page_contents[:1000]"
   ]
  },
  {
   "cell_type": "markdown",
   "id": "8edd9991",
   "metadata": {},
   "source": [
    "The web page's source code is seen above. It was created using the HTML format. It outlines the web page's structure and content.\n",
    "\n",
    "Let's write the information to a file with the.html extension."
   ]
  },
  {
   "cell_type": "code",
   "execution_count": 10,
   "id": "68c119aa",
   "metadata": {},
   "outputs": [],
   "source": [
    "with open('school-books.html', 'w') as file:\n",
    "    file.write(page_contents)"
   ]
  },
  {
   "cell_type": "markdown",
   "id": "4bac25d8",
   "metadata": {},
   "source": [
    "Using Jupyter Notebook's \"File > Open\" menu option and selecting on school_books.html in the list of files displayed, you can now examine the file. When you open the file, you'll see this:"
   ]
  },
  {
   "cell_type": "markdown",
   "id": "a308dbdd",
   "metadata": {},
   "source": [
    "![](https://imgur.com/IbyPH1e.jpg)"
   ]
  },
  {
   "cell_type": "markdown",
   "id": "edcacb48",
   "metadata": {},
   "source": [
    "## Using `Beautiful Soup` to parse various website sections"
   ]
  },
  {
   "cell_type": "markdown",
   "id": "17541d75",
   "metadata": {},
   "source": [
    "Using the [Beautiful Soup](https://www.crummy.com/software/BeautifulSoup/bs4/doc/) package, we can programmatically extract data from a webpage's HTML source code. Now that the library has been installed, let's import the BeautifulSoup class from the bs4 module."
   ]
  },
  {
   "cell_type": "code",
   "execution_count": 11,
   "id": "3ec7cb85",
   "metadata": {},
   "outputs": [],
   "source": [
    "# Install the library\n",
    "!pip install beautifulsoup4 --upgrade --quiet"
   ]
  },
  {
   "cell_type": "code",
   "execution_count": 12,
   "id": "8f9b4491",
   "metadata": {},
   "outputs": [],
   "source": [
    "# Import the library\n",
    "from bs4 import BeautifulSoup"
   ]
  },
  {
   "cell_type": "markdown",
   "id": "12f94b0f",
   "metadata": {},
   "source": [
    "Let's now open the file school-books.html and examine its contents before creating a BeautifulSoup object to parse it."
   ]
  },
  {
   "cell_type": "code",
   "execution_count": 13,
   "id": "e4ee7926",
   "metadata": {},
   "outputs": [],
   "source": [
    "with open('school-books.html', 'r') as f:\n",
    "    html_source = f.read()"
   ]
  },
  {
   "cell_type": "markdown",
   "id": "fe38a27b",
   "metadata": {},
   "source": [
    "Creating a BeautifulSoup object to parse the content."
   ]
  },
  {
   "cell_type": "code",
   "execution_count": 14,
   "id": "c3531082",
   "metadata": {
    "scrolled": true
   },
   "outputs": [],
   "source": [
    "soup = BeautifulSoup(html_source, 'html.parser')"
   ]
  },
  {
   "cell_type": "code",
   "execution_count": 15,
   "id": "b0ed2276",
   "metadata": {
    "scrolled": true
   },
   "outputs": [
    {
     "data": {
      "text/plain": [
       "bs4.BeautifulSoup"
      ]
     },
     "execution_count": 15,
     "metadata": {},
     "output_type": "execute_result"
    }
   ],
   "source": [
    "type(soup)"
   ]
  },
  {
   "cell_type": "markdown",
   "id": "55a1d7f8",
   "metadata": {},
   "source": [
    "### Accessing a tag"
   ]
  },
  {
   "cell_type": "markdown",
   "id": "f603004d",
   "metadata": {},
   "source": [
    "There are numerous methods for information extraction from the [HTML](https://www.w3schools.com/html/html_intro.asp) document in the soup object. Take a look at the following examples."
   ]
  },
  {
   "cell_type": "markdown",
   "id": "a6115066",
   "metadata": {},
   "source": [
    "Accessing the title of the page"
   ]
  },
  {
   "cell_type": "code",
   "execution_count": 16,
   "id": "1e158fda",
   "metadata": {
    "scrolled": true
   },
   "outputs": [],
   "source": [
    "title_tag = soup.title"
   ]
  },
  {
   "cell_type": "code",
   "execution_count": 17,
   "id": "6efd0ecb",
   "metadata": {},
   "outputs": [
    {
     "data": {
      "text/plain": [
       "<title>Amazon.in Bestsellers: The most popular items in School Books</title>"
      ]
     },
     "execution_count": 17,
     "metadata": {},
     "output_type": "execute_result"
    }
   ],
   "source": [
    "title_tag"
   ]
  },
  {
   "cell_type": "markdown",
   "id": "27dfe74c",
   "metadata": {},
   "source": [
    "We can access a tag's name using the `.name` property"
   ]
  },
  {
   "cell_type": "code",
   "execution_count": 18,
   "id": "38315fab",
   "metadata": {},
   "outputs": [
    {
     "data": {
      "text/plain": [
       "'title'"
      ]
     },
     "execution_count": 18,
     "metadata": {},
     "output_type": "execute_result"
    }
   ],
   "source": [
    "title_tag.name"
   ]
  },
  {
   "cell_type": "markdown",
   "id": "6ab66da4",
   "metadata": {},
   "source": [
    "The text within a tag can be accessed using `.text`."
   ]
  },
  {
   "cell_type": "code",
   "execution_count": 19,
   "id": "ef38c2e0",
   "metadata": {},
   "outputs": [
    {
     "data": {
      "text/plain": [
       "'Amazon.in Bestsellers: The most popular items in School Books'"
      ]
     },
     "execution_count": 19,
     "metadata": {},
     "output_type": "execute_result"
    }
   ],
   "source": [
    "title_tag.text"
   ]
  },
  {
   "cell_type": "markdown",
   "id": "1fba75bb",
   "metadata": {},
   "source": [
    "## Examining a web page's `HTML` source code"
   ]
  },
  {
   "cell_type": "markdown",
   "id": "7e0dfa42",
   "metadata": {},
   "source": [
    "![](https://i.imgur.com/i75aStf.png)"
   ]
  },
  {
   "cell_type": "markdown",
   "id": "fcca6775",
   "metadata": {},
   "source": [
    "DIV Tag : Using the class or id attribute, it is simple to style and specifies a division or part in an HTML document.           \n",
    "CLASS Attribute : An HTML element's class can be specified using the class attribute."
   ]
  },
  {
   "cell_type": "markdown",
   "id": "807cf684",
   "metadata": {},
   "source": [
    " ## Extracting  the name, author, url and rating of the books"
   ]
  },
  {
   "cell_type": "markdown",
   "id": "22f8555e",
   "metadata": {},
   "source": [
    "The `find_all` method returns  all tags that match the supplied tag name or id."
   ]
  },
  {
   "cell_type": "code",
   "execution_count": 20,
   "id": "91446568",
   "metadata": {},
   "outputs": [],
   "source": [
    "books = soup.find_all('div', class_= 'zg-grid-general-faceout')"
   ]
  },
  {
   "cell_type": "code",
   "execution_count": 21,
   "id": "2f6bd281",
   "metadata": {},
   "outputs": [
    {
     "data": {
      "text/plain": [
       "50"
      ]
     },
     "execution_count": 21,
     "metadata": {},
     "output_type": "execute_result"
    }
   ],
   "source": [
    "# Length of books can be accessed by len() \n",
    "len(books)"
   ]
  },
  {
   "cell_type": "markdown",
   "id": "84ef6011",
   "metadata": {},
   "source": [
    "Let's examine one of the 50 objects in books using the indexing notation 0. The first element is located in the 0th place."
   ]
  },
  {
   "cell_type": "code",
   "execution_count": 22,
   "id": "dae2f170",
   "metadata": {
    "scrolled": true
   },
   "outputs": [],
   "source": [
    "first_book = books[0]"
   ]
  },
  {
   "cell_type": "code",
   "execution_count": 23,
   "id": "8ce5ae71",
   "metadata": {},
   "outputs": [
    {
     "data": {
      "text/plain": [
       "<div class=\"zg-grid-general-faceout\"><div id=\"9391050840\"><a class=\"a-link-normal\" href=\"/Oxford-Student-Atlas-India-Fourth/dp/9391050840/ref=zg_bs_4149807031_1/000-0000000-0000000?pd_rd_i=9391050840&amp;psc=1\" role=\"link\" tabindex=\"-1\"><div class=\"a-section a-spacing-mini _cDEzb_noop_3Xbw5\"><img alt=\"Oxford Student Atlas for India, Fourth Edition - Useful for Competitive Exams\" class=\"a-dynamic-image p13n-sc-dynamic-image p13n-product-image\" data-a-dynamic-image='{\"https://images-eu.ssl-images-amazon.com/images/I/71owQ+uazdL._AC_UL302_SR302,200_.jpg\":[302,200],\"https://images-eu.ssl-images-amazon.com/images/I/71owQ+uazdL._AC_UL604_SR604,400_.jpg\":[604,400],\"https://images-eu.ssl-images-amazon.com/images/I/71owQ+uazdL._AC_UL906_SR906,600_.jpg\":[906,600]}' height=\"200px\" src=\"https://images-eu.ssl-images-amazon.com/images/I/71owQ+uazdL._AC_UL302_SR302,200_.jpg\" style=\"max-width:302px;max-height:200px\"/></div></a><a class=\"a-link-normal\" href=\"/Oxford-Student-Atlas-India-Fourth/dp/9391050840/ref=zg_bs_4149807031_1/000-0000000-0000000?pd_rd_i=9391050840&amp;psc=1\" role=\"link\"><span><div class=\"_cDEzb_p13n-sc-css-line-clamp-1_1Fn1y\">Oxford Student Atlas for India, Fourth Edition - Useful for Competitive Exams</div></span></a><div class=\"a-row a-size-small\"><span class=\"a-size-small a-color-base\"><div class=\"_cDEzb_p13n-sc-css-line-clamp-1_1Fn1y\">Oxford University Press</div></span></div><div class=\"a-row\"><div class=\"a-icon-row\"><a class=\"a-link-normal\" href=\"/product-reviews/9391050840/ref=zg_bs_4149807031_cr_1/000-0000000-0000000?pd_rd_i=9391050840\" title=\"4.4 out of 5 stars\"><i class=\"a-icon a-icon-star-small a-star-small-4-5 aok-align-top\"><span class=\"a-icon-alt\">4.4 out of 5 stars</span></i> <span class=\"a-size-small\">4,226</span></a></div></div><div class=\"a-row a-size-small\"><span class=\"a-size-small a-color-secondary a-text-normal\">Paperback</span></div><div class=\"a-row\"><a class=\"a-link-normal\" href=\"/Oxford-Student-Atlas-India-Fourth/dp/9391050840/ref=zg_bs_4149807031_1/000-0000000-0000000?pd_rd_i=9391050840&amp;psc=1\" role=\"link\"><span class=\"a-color-secondary\">80 offers from <span class=\"a-size-base\"><span class=\"p13n-sc-price\">₹183.00</span></span></span></a></div></div></div>"
      ]
     },
     "execution_count": 23,
     "metadata": {},
     "output_type": "execute_result"
    }
   ],
   "source": [
    "first_book"
   ]
  },
  {
   "cell_type": "markdown",
   "id": "5ed0cf3e",
   "metadata": {},
   "source": [
    "The book name and author name are in the tag 'div' and class '_cDEzb_p13n-sc-css-line-clamp-1_1Fn1y'.                           \n",
    "so, let's try to access them"
   ]
  },
  {
   "cell_type": "code",
   "execution_count": 24,
   "id": "517df2aa",
   "metadata": {},
   "outputs": [],
   "source": [
    "book_info = first_book.find_all('div', class_='_cDEzb_p13n-sc-css-line-clamp-1_1Fn1y')"
   ]
  },
  {
   "cell_type": "code",
   "execution_count": 25,
   "id": "55599e77",
   "metadata": {},
   "outputs": [
    {
     "data": {
      "text/plain": [
       "[<div class=\"_cDEzb_p13n-sc-css-line-clamp-1_1Fn1y\">Oxford Student Atlas for India, Fourth Edition - Useful for Competitive Exams</div>,\n",
       " <div class=\"_cDEzb_p13n-sc-css-line-clamp-1_1Fn1y\">Oxford University Press</div>]"
      ]
     },
     "execution_count": 25,
     "metadata": {},
     "output_type": "execute_result"
    }
   ],
   "source": [
    "book_info"
   ]
  },
  {
   "cell_type": "markdown",
   "id": "fd818463",
   "metadata": {},
   "source": [
    "We can observe that \"book_info\" is a list of 2 tags of which, the first tag has the information about Name of the Book and the second tag is about Author of the book."
   ]
  },
  {
   "cell_type": "markdown",
   "id": "2121c452",
   "metadata": {},
   "source": [
    "The text within a tag can be accessed using `.text`."
   ]
  },
  {
   "cell_type": "code",
   "execution_count": 26,
   "id": "85d01c84",
   "metadata": {},
   "outputs": [],
   "source": [
    "book_name = book_info[0].text\n",
    "book_author = book_info[1].text"
   ]
  },
  {
   "cell_type": "code",
   "execution_count": 27,
   "id": "f0d68948",
   "metadata": {
    "scrolled": true
   },
   "outputs": [
    {
     "name": "stdout",
     "output_type": "stream",
     "text": [
      "Book Name : Oxford Student Atlas for India, Fourth Edition - Useful for Competitive Exams\n"
     ]
    }
   ],
   "source": [
    "print(\"Book Name :\", book_name)"
   ]
  },
  {
   "cell_type": "code",
   "execution_count": 28,
   "id": "87325378",
   "metadata": {},
   "outputs": [
    {
     "name": "stdout",
     "output_type": "stream",
     "text": [
      "Book Author : Oxford University Press\n"
     ]
    }
   ],
   "source": [
    "print(\"Book Author :\", book_author)"
   ]
  },
  {
   "cell_type": "markdown",
   "id": "817e58b6",
   "metadata": {},
   "source": [
    "Similarly, we try to access the url of the book using `href` attribute"
   ]
  },
  {
   "cell_type": "code",
   "execution_count": 29,
   "id": "c1f6d7fd",
   "metadata": {},
   "outputs": [],
   "source": [
    "book_url = 'https://www.amazon.in' + first_book.find('a', class_ = 'a-link-normal')[\"href\"]"
   ]
  },
  {
   "cell_type": "code",
   "execution_count": 30,
   "id": "9dd038ba",
   "metadata": {},
   "outputs": [
    {
     "data": {
      "text/plain": [
       "'https://www.amazon.in/Oxford-Student-Atlas-India-Fourth/dp/9391050840/ref=zg_bs_4149807031_1/000-0000000-0000000?pd_rd_i=9391050840&psc=1'"
      ]
     },
     "execution_count": 30,
     "metadata": {},
     "output_type": "execute_result"
    }
   ],
   "source": [
    "book_url"
   ]
  },
  {
   "cell_type": "markdown",
   "id": "0e33b11b",
   "metadata": {},
   "source": [
    "Accessing the rating of the book using .find"
   ]
  },
  {
   "cell_type": "code",
   "execution_count": 31,
   "id": "e8728e7d",
   "metadata": {},
   "outputs": [],
   "source": [
    "rating = first_book.find_all(class_ = 'a-link-normal')[2][\"title\"]"
   ]
  },
  {
   "cell_type": "code",
   "execution_count": 32,
   "id": "ef1de469",
   "metadata": {},
   "outputs": [
    {
     "data": {
      "text/plain": [
       "'4.4 out of 5 stars'"
      ]
     },
     "execution_count": 32,
     "metadata": {},
     "output_type": "execute_result"
    }
   ],
   "source": [
    "rating"
   ]
  },
  {
   "cell_type": "markdown",
   "id": "d539ad08",
   "metadata": {},
   "source": [
    "Now, Let's look at the information that we extracted using the PRINT function."
   ]
  },
  {
   "cell_type": "code",
   "execution_count": 33,
   "id": "69fdc2df",
   "metadata": {
    "scrolled": true
   },
   "outputs": [
    {
     "name": "stdout",
     "output_type": "stream",
     "text": [
      "\n",
      "book name : Oxford Student Atlas for India, Fourth Edition - Useful for Competitive Exams\n",
      "book author : Oxford University Press\n",
      "book url : https://www.amazon.inhttps://www.amazon.in/Oxford-Student-Atlas-India-Fourth/dp/9391050840/ref=zg_bs_4149807031_1/000-0000000-0000000?pd_rd_i=9391050840&psc=1\n",
      "book rating : 4.4 out of 5 stars\n",
      "\n"
     ]
    }
   ],
   "source": [
    "print(f'''\n",
    "book name : {book_name}\n",
    "book author : {book_author}\n",
    "book url : https://www.amazon.in{book_url}\n",
    "book rating : {rating}\n",
    "''')"
   ]
  },
  {
   "cell_type": "markdown",
   "id": "c21b53c7",
   "metadata": {},
   "source": [
    "As the total number of books in the url https://www.amazon.in/gp/bestsellers/books/4149807031/ref=zg_bs_pg_2?ie=UTF8&pg=1 are 50, let's return name, author, url and rating by writing a function parse_books."
   ]
  },
  {
   "cell_type": "code",
   "execution_count": 34,
   "id": "c46fefb9",
   "metadata": {
    "scrolled": true
   },
   "outputs": [],
   "source": [
    "# Information like book name or author name is missing in few books.\n",
    "# Let us only print the books with complete information.\n",
    "def parse_books(book):\n",
    "    book_info = book.find_all('div', class_='_cDEzb_p13n-sc-css-line-clamp-1_1Fn1y')\n",
    "    # To make sure that book_info has book name and author name    \n",
    "    if len(book_info) == 2:\n",
    "        # Name of the book\n",
    "        book_name = book_info[0].text\n",
    "        # Author of the book\n",
    "        book_author = book_info[1].text\n",
    "        # book url\n",
    "        book_url = 'https://www.amazon.in' + book.find('a', class_ = 'a-link-normal')[\"href\"]\n",
    "        # rating of the book\n",
    "        rating = book.find_all(class_ = 'a-link-normal')[2][\"title\"]\n",
    "            \n",
    "        return { 'book name' : book_name, 'book author' : book_author, 'book url' : book_url, 'book rating' : rating }\n"
   ]
  },
  {
   "cell_type": "markdown",
   "id": "cd6ecb7f",
   "metadata": {},
   "source": [
    "We can now parse details of any book using the function `parse_books(book)`"
   ]
  },
  {
   "cell_type": "code",
   "execution_count": 35,
   "id": "3836c718",
   "metadata": {},
   "outputs": [
    {
     "data": {
      "text/plain": [
       "{'book name': 'Oxford Student Atlas for India, Fourth Edition - Useful for Competitive Exams',\n",
       " 'book author': 'Oxford University Press',\n",
       " 'book url': 'https://www.amazon.in/Oxford-Student-Atlas-India-Fourth/dp/9391050840/ref=zg_bs_4149807031_1/000-0000000-0000000?pd_rd_i=9391050840&psc=1',\n",
       " 'book rating': '4.4 out of 5 stars'}"
      ]
     },
     "execution_count": 35,
     "metadata": {},
     "output_type": "execute_result"
    }
   ],
   "source": [
    "parse_books(books[0])"
   ]
  },
  {
   "cell_type": "code",
   "execution_count": 36,
   "id": "d33cdd30",
   "metadata": {},
   "outputs": [
    {
     "data": {
      "text/plain": [
       "{'book name': \"T.S. Grewal's Double Entry Book Keeping: Financial Accounting Textbook for CBSE Class 11 (as per 2022-23 syllabus)\",\n",
       " 'book author': 'T.S. Grewal',\n",
       " 'book url': 'https://www.amazon.in/T-S-Grewals-Double-Entry-Keeping/dp/9390851777/ref=zg_bs_4149807031_6/000-0000000-0000000?pd_rd_i=9390851777&psc=1',\n",
       " 'book rating': '4.2 out of 5 stars'}"
      ]
     },
     "execution_count": 36,
     "metadata": {},
     "output_type": "execute_result"
    }
   ],
   "source": [
    "parse_books(books[5])"
   ]
  },
  {
   "cell_type": "markdown",
   "id": "28cd6b46",
   "metadata": {},
   "source": [
    "We can use a list comprehension to parse all the books at a time."
   ]
  },
  {
   "cell_type": "code",
   "execution_count": 37,
   "id": "f2141598",
   "metadata": {},
   "outputs": [],
   "source": [
    "top_books = [ parse_books(book) for book in books ]"
   ]
  },
  {
   "cell_type": "code",
   "execution_count": 38,
   "id": "ab666579",
   "metadata": {},
   "outputs": [
    {
     "data": {
      "text/plain": [
       "50"
      ]
     },
     "execution_count": 38,
     "metadata": {},
     "output_type": "execute_result"
    }
   ],
   "source": [
    "len(top_books)"
   ]
  },
  {
   "cell_type": "code",
   "execution_count": 39,
   "id": "9dd3247a",
   "metadata": {},
   "outputs": [
    {
     "data": {
      "text/plain": [
       "[{'book name': 'Oxford Student Atlas for India, Fourth Edition - Useful for Competitive Exams',\n",
       "  'book author': 'Oxford University Press',\n",
       "  'book url': 'https://www.amazon.in/Oxford-Student-Atlas-India-Fourth/dp/9391050840/ref=zg_bs_4149807031_1/000-0000000-0000000?pd_rd_i=9391050840&psc=1',\n",
       "  'book rating': '4.4 out of 5 stars'},\n",
       " {'book name': 'Concept of Physics by H.C Verma Part - I - Session 2022-23',\n",
       "  'book author': 'H.C. Verma',\n",
       "  'book url': 'https://www.amazon.in/Concept-Physics-Part-1-2018-2019-Session/dp/8177091875/ref=zg_bs_4149807031_2/000-0000000-0000000?pd_rd_i=8177091875&psc=1',\n",
       "  'book rating': '4.6 out of 5 stars'},\n",
       " {'book name': 'CBSE All In One Social Science Class 10 2022-23 Edition (As per latest CBSE Syllabus issued on 21 April 2022)',\n",
       "  'book author': 'Farah Sultan Madhumita Pattrea',\n",
       "  'book url': 'https://www.amazon.in/Social-Science-2022-23-latest-Syllabus/dp/9326196879/ref=zg_bs_4149807031_3/000-0000000-0000000?pd_rd_i=9326196879&psc=1',\n",
       "  'book rating': '4.2 out of 5 stars'}]"
      ]
     },
     "execution_count": 39,
     "metadata": {},
     "output_type": "execute_result"
    }
   ],
   "source": [
    "top_books[:3]"
   ]
  },
  {
   "cell_type": "markdown",
   "id": "8502fc23",
   "metadata": {},
   "source": [
    "Few books doesn't have the complete information that we are looking for. So, we are eliminating information of such books.\n",
    "The above function is written in such a way that only valid books get printed."
   ]
  },
  {
   "cell_type": "markdown",
   "id": "0d8558b7",
   "metadata": {},
   "source": [
    "Providing the genres of books of our choice that we are interested to parse the details into a dictionary."
   ]
  },
  {
   "cell_type": "code",
   "execution_count": 40,
   "id": "2ac5f7a9",
   "metadata": {},
   "outputs": [],
   "source": [
    "all_book_links = { \n",
    "                    'School Books' : 'https://www.amazon.in/gp/bestsellers/books/4149807031/ref=zg_bs_pg_2?ie=UTF8&pg=',\n",
    "                    'Action Books' : 'https://www.amazon.in/gp/bestsellers/books/1318084031/ref=zg_bs_pg_2?ie=UTF8&pg=',\n",
    "                    'Engineering Books' : 'https://www.amazon.in/gp/bestsellers/books/22960344031/ref=zg_bs_pg_2?ie=UTF8&pg=',\n",
    "                    'Mining Books' :'https://www.amazon.in/gp/bestsellers/books/12365345031/ref=zg_bs_pg_2?ie=UTF8&pg='\n",
    "                }"
   ]
  },
  {
   "cell_type": "markdown",
   "id": "57f90a25",
   "metadata": {},
   "source": [
    "Below is the function that downloads the amazon bestselling books oage for a given genre and returns a beautifulsoup docuement representing the page."
   ]
  },
  {
   "cell_type": "code",
   "execution_count": 41,
   "id": "4c1e657c",
   "metadata": {},
   "outputs": [],
   "source": [
    "def get_topic_page(topic):\n",
    "    # downloads a web page and returns docs\n",
    "    docs = []\n",
    "    for i in range(1, 7):\n",
    "        # Constructing the URL\n",
    "        topic_url = topic + str(i)\n",
    "        \n",
    "        # Get the HTML page content using requests\n",
    "        response = requests.get(topic_url)\n",
    "    \n",
    "        # Ensure that the reponse is valid\n",
    "        if response.status_code != 200:\n",
    "            print('Status code:', response.status_code)\n",
    "            raise Exception('Failed to fetch web page ' + topic_url)\n",
    "\n",
    "        # Construct a beautiful soup document\n",
    "        doc = BeautifulSoup(response.text, 'html.parser')\n",
    "        \n",
    "        docs.append(doc)\n",
    "    \n",
    "    return docs"
   ]
  },
  {
   "cell_type": "markdown",
   "id": "583abf9c",
   "metadata": {},
   "source": [
    "Below is the function `parse_pages` that can parse pages indexing from page numbers 1 to 6"
   ]
  },
  {
   "cell_type": "code",
   "execution_count": 42,
   "id": "f6375541",
   "metadata": {},
   "outputs": [],
   "source": [
    "def parse_pages(soup):\n",
    "    books = soup.find_all('div', class_= 'zg-grid-general-faceout')\n",
    "\n",
    "    topic_books = [ parse_books(book) for book in books ]\n",
    "\n",
    "    return topic_books"
   ]
  },
  {
   "cell_type": "markdown",
   "id": "9aeba14a",
   "metadata": {},
   "source": [
    "We can now use the functions we've defined to get the top books for any genre."
   ]
  },
  {
   "cell_type": "code",
   "execution_count": 50,
   "id": "e233c1e1",
   "metadata": {
    "scrolled": true
   },
   "outputs": [
    {
     "name": "stdout",
     "output_type": "stream",
     "text": [
      "[{'book name': 'Oxford Student Atlas for India, Fourth Edition - Useful for Competitive Exams', 'book author': 'Oxford University Press', 'book url': 'https://www.amazon.in/Oxford-Student-Atlas-India-Fourth/dp/9391050840/ref=zg_bs_4149807031_1/000-0000000-0000000?pd_rd_i=9391050840&psc=1', 'book rating': '4.4 out of 5 stars'}, {'book name': 'Concept of Physics by H.C Verma Part - I - Session 2022-23', 'book author': 'H.C. Verma', 'book url': 'https://www.amazon.in/Concept-Physics-Part-1-2018-2019-Session/dp/8177091875/ref=zg_bs_4149807031_2/000-0000000-0000000?pd_rd_i=8177091875&psc=1', 'book rating': '4.6 out of 5 stars'}, {'book name': 'CBSE All In One Social Science Class 10 2022-23 Edition (As per latest CBSE Syllabus issued on 21 April 2022)', 'book author': 'Farah Sultan Madhumita Pattrea', 'book url': 'https://www.amazon.in/Social-Science-2022-23-latest-Syllabus/dp/9326196879/ref=zg_bs_4149807031_3/000-0000000-0000000?pd_rd_i=9326196879&psc=1', 'book rating': '4.2 out of 5 stars'}]\n"
     ]
    }
   ],
   "source": [
    "docs = get_topic_page(all_book_links['School Books'])\n",
    "topic_books = []\n",
    "for doc in docs:\n",
    "    topic_books = topic_books + parse_pages(doc)\n",
    "\n",
    "print(topic_books[:3])"
   ]
  },
  {
   "cell_type": "code",
   "execution_count": 51,
   "id": "98ba42d4",
   "metadata": {},
   "outputs": [
    {
     "data": {
      "text/plain": [
       "300"
      ]
     },
     "execution_count": 51,
     "metadata": {},
     "output_type": "execute_result"
    }
   ],
   "source": [
    "len(topic_books)"
   ]
  },
  {
   "cell_type": "markdown",
   "id": "9bd3993e",
   "metadata": {},
   "source": [
    "We can also access a particular book by indexing with a number"
   ]
  },
  {
   "cell_type": "code",
   "execution_count": 52,
   "id": "981444d5",
   "metadata": {
    "scrolled": false
   },
   "outputs": [
    {
     "data": {
      "text/plain": [
       "{'book name': 'CBSE All In One Social Science Class 10 2022-23 Edition (As per latest CBSE Syllabus issued on 21 April 2022)',\n",
       " 'book author': 'Farah Sultan Madhumita Pattrea',\n",
       " 'book url': 'https://www.amazon.in/Social-Science-2022-23-latest-Syllabus/dp/9326196879/ref=zg_bs_4149807031_3/000-0000000-0000000?pd_rd_i=9326196879&psc=1',\n",
       " 'book rating': '4.2 out of 5 stars'}"
      ]
     },
     "execution_count": 52,
     "metadata": {},
     "output_type": "execute_result"
    }
   ],
   "source": [
    "topic_books[2]"
   ]
  },
  {
   "cell_type": "code",
   "execution_count": 53,
   "id": "107a82db",
   "metadata": {},
   "outputs": [
    {
     "data": {
      "text/plain": [
       "{'book name': 'International Mathematics Olympiad (IMO) Work Book for Class 4 - MCQs, Previous Years Solved Paper and Achievers Section - Olympiad Books For 2022-2023 Exam',\n",
       " 'book author': 'MAHABIR SINGH',\n",
       " 'book url': 'https://www.amazon.in/International-Mathematics-Olympiad-Work-Class/dp/9355552130/ref=zg_bs_4149807031_21/000-0000000-0000000?pd_rd_i=9355552130&psc=1',\n",
       " 'book rating': '4.5 out of 5 stars'}"
      ]
     },
     "execution_count": 53,
     "metadata": {},
     "output_type": "execute_result"
    }
   ],
   "source": [
    "topic_books[20]"
   ]
  },
  {
   "cell_type": "markdown",
   "id": "79bba04e",
   "metadata": {},
   "source": [
    "Now, with the above wriiten function, we can parse the information for any page in amazon books from other pages as well.\n",
    "\n",
    "Here, we are accesing  the \"Action Books\""
   ]
  },
  {
   "cell_type": "code",
   "execution_count": 55,
   "id": "801ea0a3",
   "metadata": {
    "scrolled": false
   },
   "outputs": [
    {
     "name": "stdout",
     "output_type": "stream",
     "text": [
      "[{'book name': \"Harry Potter and the Philosopher's Stone\", 'book author': 'J.K. Rowling', 'book url': 'https://www.amazon.in/Harry-Potter-Philosophers-Stone-Rowling-ebook/dp/B019PIOJYU/ref=zg_bs_1318084031_1/000-0000000-0000000?pd_rd_i=B019PIOJYU&psc=1', 'book rating': '4.7 out of 5 stars'}, {'book name': 'The Accidental Minecraft Family: Book 27', 'book author': 'Pixel Ate', 'book url': 'https://www.amazon.in/Accidental-Minecraft-Family-Book-27-ebook/dp/B0B3QVB4K3/ref=zg_bs_1318084031_2/000-0000000-0000000?pd_rd_i=B0B3QVB4K3&psc=1', 'book rating': '5.0 out of 5 stars'}, {'book name': 'Harry Potter Box Set: The Complete Collection (Set of 7 Volumes)', 'book author': 'J.K. Rowling', 'book url': 'https://www.amazon.in/Harry-Potter-ChildrenS-Paperback-Boxed/dp/1408856778/ref=zg_bs_1318084031_3/000-0000000-0000000?pd_rd_i=1408856778&psc=1', 'book rating': '4.7 out of 5 stars'}]\n"
     ]
    }
   ],
   "source": [
    "docs = get_topic_page(all_book_links['Action Books'])\n",
    "topic_books2 = []\n",
    "for doc in docs:\n",
    "    topic_books2 = topic_books2 + parse_pages(doc)\n",
    "\n",
    "print(topic_books2[:3])"
   ]
  },
  {
   "cell_type": "markdown",
   "id": "cf0aef8f",
   "metadata": {},
   "source": [
    "We can access a particular book by indexing with a number"
   ]
  },
  {
   "cell_type": "code",
   "execution_count": 56,
   "id": "03e7c135",
   "metadata": {
    "scrolled": true
   },
   "outputs": [
    {
     "data": {
      "text/plain": [
       "{'book name': 'Harry Potter Box Set: The Complete Collection (Set of 7 Volumes)',\n",
       " 'book author': 'J.K. Rowling',\n",
       " 'book url': 'https://www.amazon.in/Harry-Potter-ChildrenS-Paperback-Boxed/dp/1408856778/ref=zg_bs_1318084031_3/000-0000000-0000000?pd_rd_i=1408856778&psc=1',\n",
       " 'book rating': '4.7 out of 5 stars'}"
      ]
     },
     "execution_count": 56,
     "metadata": {},
     "output_type": "execute_result"
    }
   ],
   "source": [
    "topic_books2[2]"
   ]
  },
  {
   "cell_type": "code",
   "execution_count": 57,
   "id": "6deb9194",
   "metadata": {
    "scrolled": false
   },
   "outputs": [
    {
     "data": {
      "text/plain": [
       "{'book name': \"Good Girl, Bad Blood: TikTok made me buy it! The Sunday Times Bestseller and sequel to A Good Girl's Guide to Murder: Book 2\",\n",
       " 'book author': 'Holly Jackson',\n",
       " 'book url': 'https://www.amazon.in/Good-Girl-Blood-Holly-Jackson/dp/1405297751/ref=zg_bs_1318084031_21/000-0000000-0000000?pd_rd_i=1405297751&psc=1',\n",
       " 'book rating': '4.6 out of 5 stars'}"
      ]
     },
     "execution_count": 57,
     "metadata": {},
     "output_type": "execute_result"
    }
   ],
   "source": [
    "topic_books2[20]"
   ]
  },
  {
   "cell_type": "code",
   "execution_count": 58,
   "id": "d450b233",
   "metadata": {},
   "outputs": [],
   "source": [
    "docs = get_topic_page(all_book_links['Engineering Books'])\n",
    "topic_books3 = []\n",
    "for doc in docs:\n",
    "    topic_books3 = topic_books3 + parse_pages(doc)"
   ]
  },
  {
   "cell_type": "code",
   "execution_count": 63,
   "id": "710458f5",
   "metadata": {},
   "outputs": [],
   "source": [
    "docs = get_topic_page(all_book_links['Mining Books'])\n",
    "topic_books4 = []\n",
    "for doc in docs:\n",
    "    topic_books4 = topic_books4 + parse_pages(doc)"
   ]
  },
  {
   "cell_type": "markdown",
   "id": "8d6325d2",
   "metadata": {},
   "source": [
    "## Writing information to CSV files"
   ]
  },
  {
   "cell_type": "markdown",
   "id": "f77f7ef2",
   "metadata": {},
   "source": [
    "The function will produce a file with the desired name by changing the corresponding information from the dictionary to a .CSV file"
   ]
  },
  {
   "cell_type": "code",
   "execution_count": 64,
   "id": "2e7ff4c4",
   "metadata": {},
   "outputs": [],
   "source": [
    "def write_csv(items, path):\n",
    "    \"\"\"Write a list of dictionaries to a CSV file\"\"\"\n",
    "    with open(path, 'w') as f:\n",
    "        if len(items) == 0:\n",
    "            return\n",
    "        headers = list(items[0].keys())\n",
    "        f.write(','.join(headers) + '\\n')\n",
    "        for item in items:\n",
    "            if item==None:\n",
    "                pass\n",
    "            else:\n",
    "                values = []\n",
    "                for header in headers:\n",
    "                    values.append(item.get(header, \"\"))\n",
    "                f.write(','.join(values) + \"\\n\")"
   ]
  },
  {
   "cell_type": "code",
   "execution_count": 65,
   "id": "c82a0b4a",
   "metadata": {},
   "outputs": [],
   "source": [
    "write_csv(top_books, 'School Books.csv')"
   ]
  },
  {
   "cell_type": "markdown",
   "id": "ff3b9f76",
   "metadata": {},
   "source": [
    "The file can now be read to view its contents. Using Jupyter's \"File > Open\" menu option, you can also examine the file's content."
   ]
  },
  {
   "cell_type": "code",
   "execution_count": 66,
   "id": "94183962",
   "metadata": {},
   "outputs": [
    {
     "name": "stdout",
     "output_type": "stream",
     "text": [
      "book name,book author,book url,book rating\n",
      "Oxford Student Atlas for India, Fourth Edition - Useful for Competitive Exams,Oxford University Press,https://www.amazon.in/Oxford-Student-Atlas-India-Fourth/dp/9391050840/ref=zg_bs_4149807031_1/000-0000000-0000000?pd_rd_i=9391050840&psc=1,4.4 out of 5 stars\n",
      "Concept of Physics by H.C Verma Part - I - Session 2022-23,H.C. Verma,https://www.amazon.in/Concept-Physics-Part-1-2018-2019-Session/dp/8177091875/ref=zg_bs_4149807031_2/000-0000000-0000000?pd_rd_i=8177091875&psc=1,4.6 out of 5 stars\n",
      "CBSE All In One Social Science Class 10 2022-23 Edition (As per latest CBSE Syllabus issued on 21 April 2022),Farah Sultan Madhumita Pattrea,https://www.amazon.in/Social-Science-2022-23-latest-Syllabus/dp/9326196879/ref=zg_bs_4149807031_3/000-0000000-0000000?pd_rd_i=9326196879&psc=1,4.2 out of 5 stars\n",
      "Mathematics for Class 10 - CBSE - by R.D. Sharma Examination 2022-23,R.D. Sharma,https://www.amazon.in/Mathematics-Class-10-Examination-2022-23/dp/B09SJ365JL/ref=zg_bs_4149807031_4/000-0000000-0000000?pd_rd_i=B09SJ365JL&psc=1,4.5 out of 5 stars\n",
      "CBSE All In One Science Class 10 2022-23 Edition (As per latest CBSE Syllabus issued on 21 April 2022),Rashmi Gupta Sonal Singh ,Ruchi Kapoor,Imran Ahmad , Sanubai,https://www.amazon.in/Science-2022-23-latest-Syllabus-issued/dp/9326196860/ref=zg_bs_4149807031_5/000-0000000-0000000?pd_rd_i=9326196860&psc=1,4.4 out of 5 stars\n",
      "T.S. Grewal's Double Entry Book Keeping: Financial Accounting Textbook for CBSE Class 11 (as per 2022-23 syllabus),T.S. Grewal,https://www.amazon.in/T-S-Grewals-Double-Entry-Keeping/dp/9390851777/ref=zg_bs_4149807031_6/000-0000000-0000000?pd_rd_i=9390851777&psc=1,4.2 out of 5 stars\n",
      "Wren And Martin -high School English Grammar,Rao N,D,V,Prasada,https://www.amazon.in/School-English-Grammar-Composition-Regular/dp/9352530144/ref=zg_bs_4149807031_7/000-0000000-0000000?pd_rd_i=9352530144&psc=1,4.5 out of 5 stars\n",
      "Oswaal CBSE Class 10 Science Chapterwise & Topicwise Question Bank Book (For 2022-23 Exam),Oswaal Editorial Board,https://www.amazon.in/Chapterwise-Topicwise-Question-Science-2022-23/dp/9355951396/ref=zg_bs_4149807031_8/000-0000000-0000000?pd_rd_i=9355951396&psc=1,4.2 out of 5 stars\n",
      "Mathematics for Class 9 - CBSE - by R.D. Sharma Examination 2022-23,R.D. Sharma,https://www.amazon.in/Mathematics-Class-Sharma-Examination-2022-23/dp/B09SJ5TZZ4/ref=zg_bs_4149807031_9/000-0000000-0000000?pd_rd_i=B09SJ5TZZ4&psc=1,4.5 out of 5 stars\n",
      "The Official Cambridge Guide To Ielts Student's Book With Answers With Dvd Rom,Pauline Cullen,https://www.amazon.in/Official-Cambridge-Guide-Students-Answers/dp/110744277X/ref=zg_bs_4149807031_10/000-0000000-0000000?pd_rd_i=110744277X&psc=1,4.4 out of 5 stars\n",
      "CBSE All In One English Language & Literature Class 10 2022-23 Edition,Vaishali Jaiswal Dolly Jain,https://www.amazon.in/English-Language-Literature-2022-23-Syllabus/dp/9326196895/ref=zg_bs_4149807031_11/000-0000000-0000000?pd_rd_i=9326196895&psc=1,4.1 out of 5 stars\n",
      "Oswaal CBSE Class 10 Social Science Chapterwise & Topicwise Question Bank Book (For 2022-23 Exam),Oswaal Editorial Board,https://www.amazon.in/Chapterwise-Topicwise-Question-Science-2022-23/dp/9355951329/ref=zg_bs_4149807031_12/000-0000000-0000000?pd_rd_i=9355951329&psc=1,4.3 out of 5 stars\n",
      "101 Panchatantra Stories for Children: Colourful Illustrated Stories,Om Books Editorial Team,https://www.amazon.in/101-Panchatantra-Stories-Children-Illustrated/dp/935376517X/ref=zg_bs_4149807031_13/000-0000000-0000000?pd_rd_i=935376517X&psc=1,4.5 out of 5 stars\n",
      "Concept of Physics by H.C Verma Part - II - Session 2022-23,H.C. Verma,https://www.amazon.in/Concept-Physics-Part-2-2018-2019-Session/dp/8177092324/ref=zg_bs_4149807031_14/000-0000000-0000000?pd_rd_i=8177092324&psc=1,4.6 out of 5 stars\n",
      "Computer Science with Python Textbook for Class 11 - Examination 2022-2023,Sumita Arora,https://www.amazon.in/Computer-Science-Practice-Textbook-2018-2019/dp/8177002309/ref=zg_bs_4149807031_15/000-0000000-0000000?pd_rd_i=8177002309&psc=1,4.5 out of 5 stars\n",
      "Mathematics for Class 8 - CBSE - by R.D. Sharma Examination 2022-2023,R.D. Sharma,https://www.amazon.in/Mathematics-Class-Sharma-2018-19-Session/dp/818992804X/ref=zg_bs_4149807031_16/000-0000000-0000000?pd_rd_i=818992804X&psc=1,4.6 out of 5 stars\n",
      "Mathematics for Class 11 (Set of 2 Vol.) - CBSE - by R.D. Sharma Examination 2022-23,R.D. Sharma,https://www.amazon.in/Author-Sharma-Mathematics-Class-Bansal/dp/B096YWXV4F/ref=zg_bs_4149807031_17/000-0000000-0000000?pd_rd_i=B096YWXV4F&psc=1,4.7 out of 5 stars\n",
      "Oxford School Atlas: India's Most Trusted Atlas 36th edition,Oxford,https://www.amazon.in/Oxford-School-Atlas/dp/0190123656/ref=zg_bs_4149807031_18/000-0000000-0000000?pd_rd_i=0190123656&psc=1,4.5 out of 5 stars\n",
      "CBSE All In One Social Science Class 9 2022-23 Edition (As per latest CBSE Syllabus issued on 21 April 2022),Farah Sultan Madhumita Pattrea,https://www.amazon.in/Social-Science-2022-23-latest-Syllabus/dp/932619664X/ref=zg_bs_4149807031_19/000-0000000-0000000?pd_rd_i=932619664X&psc=1,4.1 out of 5 stars\n",
      "Combo Pack: Lakhmir Singh Class 10 Science (Biology, Physics, Chemistry) - Examination 2022-23,Manjit Kaur; Lakhmir Singh,https://www.amazon.in/Combo-Pack-Lakhmir-Chemistry-Examination/dp/B09PKHZZMB/ref=zg_bs_4149807031_20/000-0000000-0000000?pd_rd_i=B09PKHZZMB&psc=1,4.4 out of 5 stars\n",
      "International Mathematics Olympiad (IMO) Work Book for Class 4 - MCQs, Previous Years Solved Paper and Achievers Section - Olympiad Books For 2022-2023 Exam,MAHABIR SINGH,https://www.amazon.in/International-Mathematics-Olympiad-Work-Class/dp/9355552130/ref=zg_bs_4149807031_21/000-0000000-0000000?pd_rd_i=9355552130&psc=1,4.5 out of 5 stars\n",
      "Oswaal CBSE Class 10 Mathematics Standard Chapterwise & Topicwise Question Bank Book (For 2022-23 Exam),Oswaal Editorial Board,https://www.amazon.in/Mathematics-Standard-Chapterwise-Topicwise-Question/dp/9355951531/ref=zg_bs_4149807031_22/000-0000000-0000000?pd_rd_i=9355951531&psc=1,4.3 out of 5 stars\n",
      "NVS MASTER Practice set,ADHYAYAN MANTRA TEAM,https://www.amazon.in/MASTER-Practice-ADHYAYAN-MANTRA-TEAM/dp/B07V5N964W/ref=zg_bs_4149807031_23/000-0000000-0000000?pd_rd_i=B07V5N964W&psc=1,3.9 out of 5 stars\n",
      "CBSE All In One Science Class 9 2022-23 Edition,Heena Sharma,https://www.amazon.in/CBSE-All-Science-Class-2022-23/dp/9326193160/ref=zg_bs_4149807031_24/000-0000000-0000000?pd_rd_i=9326193160&psc=1,4.5 out of 5 stars\n",
      "Computer Science With Python Textbook And Practical Book For Class 12 (Examination 2022-2023),Sumita Arora,https://www.amazon.in/Computer-Science-Python-2019-2020-Examination/dp/8177002368/ref=zg_bs_4149807031_25/000-0000000-0000000?pd_rd_i=8177002368&psc=1,4.5 out of 5 stars\n",
      "Secondary School Mathematics for Class 10 - CBSE - by R.S. Aggarwal Examination 2022-2023,R.S. Aggarwal,https://www.amazon.in/Secondary-School-Mathematics-Examination-2020-2021/dp/9388704517/ref=zg_bs_4149807031_26/000-0000000-0000000?pd_rd_i=9388704517&psc=1,4.5 out of 5 stars\n",
      "CBSE All In One English Language & Literature Class 10 2022-23 Edition,Srishti Agarwal,https://www.amazon.in/English-Language-Literature-Class-2022-23/dp/B09RMZT7B8/ref=zg_bs_4149807031_27/000-0000000-0000000?pd_rd_i=B09RMZT7B8&psc=1,4.4 out of 5 stars\n",
      "Entrepreneurship (New) - XI,CBSE,https://www.amazon.in/Entrepreneurship-New-XI-CBSE/dp/B0748XRVTC/ref=zg_bs_4149807031_28/000-0000000-0000000?pd_rd_i=B0748XRVTC&psc=1,4.1 out of 5 stars\n",
      "International Mathematics Olympiad (IMO) Work Book for Class 3 - MCQs, Previous Years Solved Paper and Achievers Section - Olympiad Books For 2022-2023 Exam,MAHABIR SINGH,https://www.amazon.in/International-Mathematics-Olympiad-Work-Class/dp/9355552122/ref=zg_bs_4149807031_29/000-0000000-0000000?pd_rd_i=9355552122&psc=1,4.3 out of 5 stars\n",
      "New Simplified Physics for Class 12 (Set of 2 Vol.) - Examination - 2022-23,S.L. Arora,https://www.amazon.in/New-Simplified-Physics-Class-Vol/dp/B09RK9JW7N/ref=zg_bs_4149807031_30/000-0000000-0000000?pd_rd_i=B09RK9JW7N&psc=1,4.2 out of 5 stars\n",
      "CBSE All In One Hindi B Class 10 2022-23 Edition (As per latest CBSE Syllabus issued on 21 April 2022),Vinod Kumar Tiwari Dr. Manju Tiwari,https://www.amazon.in/Hindi-2022-23-latest-Syllabus-issued/dp/9326196917/ref=zg_bs_4149807031_1/000-0000000-0000000?pd_rd_i=9326196917&psc=1,3.9 out of 5 stars\n",
      "Oswaal CBSE Class 10 English, Science, Social Science & Math Standard Question Bank (Set of 4 Books) (For 2022-23 Exam),Oswaal Editorial Board,https://www.amazon.in/Question-English-Science-Standard-2022-23/dp/9355955073/ref=zg_bs_4149807031_2/000-0000000-0000000?pd_rd_i=9355955073&psc=1,4.5 out of 5 stars\n",
      "CBSE All In One English Core Class 11 2022-23 Edition,Srishti Agarwal,https://www.amazon.in/CBSE-English-Core-Class-2022-23/dp/9326192997/ref=zg_bs_4149807031_3/000-0000000-0000000?pd_rd_i=9326192997&psc=1,4.6 out of 5 stars\n",
      "CBSE All In One English Core Class 12 2022-23 Edition (As per latest CBSE Syllabus issued on 21 April 2022),Manasi Balani Srishti Agarwal,https://www.amazon.in/English-2022-23-latest-Syllabus-issued/dp/932619650X/ref=zg_bs_4149807031_4/000-0000000-0000000?pd_rd_i=932619650X&psc=1,4.0 out of 5 stars\n",
      "High School Wren and Martin English Grammar and Composition (Regular Edition) + Key to Wren and Martin English Grammar & Composition - COMBO,P. C. Wren,https://www.amazon.in/Martin-English-Grammar-Composition-Regular/dp/B07QWF34YH/ref=zg_bs_4149807031_5/000-0000000-0000000?pd_rd_i=B07QWF34YH&psc=1,4.5 out of 5 stars\n",
      "Introductory Microeconomics for Class 11 (Examination 2022-2023),Sandeep Garg,https://www.amazon.in/Introductory-Microeconomics-Class-Examination-2022-2023/dp/B09RV2CNMF/ref=zg_bs_4149807031_6/000-0000000-0000000?pd_rd_i=B09RV2CNMF&psc=1,4.5 out of 5 stars\n",
      "CBSE All In One NCERT Based Science Class 8 2022-23 Edition,Shikha Sharma Arjun Sharma , Seema Mehra ,https://www.amazon.in/NCERT-Based-Science-Class-2022-23/dp/9326194590/ref=zg_bs_4149807031_7/000-0000000-0000000?pd_rd_i=9326194590&psc=1,4.8 out of 5 stars\n",
      "NCERT Chemistry Textbook for Class 12 - Part 1 & 2 - 12085 & 12086 (Set of 2 books),NCERT,https://www.amazon.in/NCERT-Chemistry-Textbook-Class-12/dp/B08YXYY3D9/ref=zg_bs_4149807031_8/000-0000000-0000000?pd_rd_i=B08YXYY3D9&psc=1,4.3 out of 5 stars\n",
      "International Mathematics Olympiad (IMO) Work Book for Class 2 - MCQs, Previous Years Solved Paper and Achievers Section - Olympiad Books For 2022-2023 Exam,MAHABIR SINGH,https://www.amazon.in/International-Mathematics-Olympiad-Work-Class/dp/9355552076/ref=zg_bs_4149807031_9/000-0000000-0000000?pd_rd_i=9355552076&psc=1,4.6 out of 5 stars\n",
      "Oswal - Gurukul Last Years 10 Solved Papers for CBSE Class 10 Exam 2023 - Yearwise Board Solutions of Math Standard, English, Science & Social Science (All Sets Delhi & Outside), Latest Syllabus,Oswal - Gurukul,https://www.amazon.in/Oswal-Yearwise-Solutions-Standard-Syllabus/dp/9395025018/ref=zg_bs_4149807031_10/000-0000000-0000000?pd_rd_i=9395025018&psc=1,4.6 out of 5 stars\n",
      "CBSE All In One Science Class 9 2022-23 Edition (As per latest CBSE Syllabus issued on 21 April 2022),Rashmi Gupta Heena Sharma, Subhankar Vats,https://www.amazon.in/Science-2022-23-latest-Syllabus-issued/dp/9326196631/ref=zg_bs_4149807031_11/000-0000000-0000000?pd_rd_i=9326196631&psc=1,4.0 out of 5 stars\n",
      "Mathematics for Class 7 - CBSE - by R.S. Aggarwal Examination 2022-2023,R.S. Aggarwal,https://www.amazon.in/Mathematics-class-Aggarwal-2018-19-Session/dp/817709985X/ref=zg_bs_4149807031_12/000-0000000-0000000?pd_rd_i=817709985X&psc=1,4.5 out of 5 stars\n",
      "National Science Olympiad (NSO) Work Book for Class 4 - Quick Recap, MCQs, Previous Years Solved Paper and Achievers Section - Olympiad Books For 2022-2023 Exam,ANIL AHLAWAT,https://www.amazon.in/National-Science-Olympiad-Work-Class/dp/9355552270/ref=zg_bs_4149807031_13/000-0000000-0000000?pd_rd_i=9355552270&psc=1,4.8 out of 5 stars\n",
      "For CBSE Class 9 - Interact in English Main Course Book + Literature Reader + Workbook - A textbook for English course (Communicative) | For NCERT,Class 9,https://www.amazon.in/CBSE-Class-Interact-Literature-Communicative/dp/B0B2KQHPP2/ref=zg_bs_4149807031_14/000-0000000-0000000?pd_rd_i=B0B2KQHPP2&psc=1,4.8 out of 5 stars\n",
      "International Mathematics Olympiad (IMO) Work Book for Class 5 - MCQs, Previous Years Solved Paper and Achievers Section - Olympiad Books For 2022-2023 Exam,MAHABIR SINGH,https://www.amazon.in/International-Mathematics-Olympiad-Work-Class/dp/9355552149/ref=zg_bs_4149807031_15/000-0000000-0000000?pd_rd_i=9355552149&psc=1,4.1 out of 5 stars\n",
      "Oswaal CBSE Class 10 English Language & Literature Chapterwise & Topicwise Question Bank Book (For 2022-23 Exam),Oswaal Editorial Board,https://www.amazon.in/Language-Literature-Chapterwise-Topicwise-Question/dp/9355951698/ref=zg_bs_4149807031_16/000-0000000-0000000?pd_rd_i=9355951698&psc=1,4.7 out of 5 stars\n",
      "Mathematics for Class 8 - CBSE - by R.S. Aggarwal Examination 2022-2023,R.S. Aggarwal,https://www.amazon.in/Mathematics-Class-Aggarwal-2018-19-Session/dp/9350271753/ref=zg_bs_4149807031_17/000-0000000-0000000?pd_rd_i=9350271753&psc=1,4.5 out of 5 stars\n",
      "Complete Classnotes Arithmetic (Bilingual) |Gagan Pratap Sir | Champion Publication |,Gagan Pratap Sir,https://www.amazon.in/Complete-Classnotes-Arithmetic-Bilingual-Publication/dp/B09BPBMF9J/ref=zg_bs_4149807031_18/000-0000000-0000000?pd_rd_i=B09BPBMF9J&psc=1,4.4 out of 5 stars\n",
      "Primary School English Grammar And Composition,Wren,https://www.amazon.in/Primary-School-English-Grammar-Composition/dp/9352534719/ref=zg_bs_4149807031_19/000-0000000-0000000?pd_rd_i=9352534719&psc=1,4.6 out of 5 stars\n",
      "Statistics Economics for Class 11 (Examination 2022-2023),Sandeep Garg,https://www.amazon.in/Statistics-Economics-Class-Examination-2022-2023/dp/B09RV29FC8/ref=zg_bs_4149807031_20/000-0000000-0000000?pd_rd_i=B09RV29FC8&psc=1,5.0 out of 5 stars\n",
      "\n"
     ]
    }
   ],
   "source": [
    "with open('School Books.csv', 'r') as f:\n",
    "    print(f.read())"
   ]
  },
  {
   "cell_type": "markdown",
   "id": "ce0e4372",
   "metadata": {},
   "source": [
    "Perfect! We've created a CSV containing the information about the top GitHub repositories for the topic machine-learning. We can now put together everything we've done so far to solve the original problem."
   ]
  },
  {
   "cell_type": "markdown",
   "id": "cdf1676b",
   "metadata": {},
   "source": [
    "Let us write a function that creates a CSV file (comma-separated values) containing details about the 100+ top books for any given topic provide with topic link withot index number at the end of url."
   ]
  },
  {
   "cell_type": "code",
   "execution_count": 67,
   "id": "ae80ff6b",
   "metadata": {},
   "outputs": [],
   "source": [
    "import requests\n",
    "from bs4 import BeautifulSoup\n",
    "\n",
    "all_book_links = { \n",
    "                    'School Books' : 'https://www.amazon.in/gp/bestsellers/books/4149807031/ref=zg_bs_pg_2?ie=UTF8&pg=',\n",
    "                    'Action Books' : 'https://www.amazon.in/gp/bestsellers/books/1318084031/ref=zg_bs_pg_2?ie=UTF8&pg=',\n",
    "                    'Engineering Books' : 'https://www.amazon.in/gp/bestsellers/books/22960344031/ref=zg_bs_pg_2?ie=UTF8&pg=',\n",
    "                    'Mining Books' :'https://www.amazon.in/gp/bestsellers/books/12365345031/ref=zg_bs_pg_2?ie=UTF8&pg='\n",
    "                }\n",
    "\n",
    "\n",
    "def parse_books(book):\n",
    "    book_info = book.find_all('div', class_='_cDEzb_p13n-sc-css-line-clamp-1_1Fn1y')\n",
    "    # To make sure that book_info has book name and author name    \n",
    "    if len(book_info) == 2:\n",
    "        # Name of the book\n",
    "        book_name = book_info[0].text\n",
    "        # Author of the book\n",
    "        book_author = book_info[1].text\n",
    "        # book url\n",
    "        book_url = 'https://www.amazon.in' + book.find('a', class_ = 'a-link-normal')[\"href\"]\n",
    "        # book rating\n",
    "        rating = book.find_all(class_ = 'a-link-normal')[2][\"title\"]\n",
    "\n",
    "        book_url = 'https://www.amazon.in' + book_url\n",
    "        \n",
    "        return { 'book name' : book_name, 'book author' : book_author, 'book url' : book_url, 'book rating' : rating }\n",
    "\n",
    "    \n",
    "\n",
    "def get_topic_page(topic):\n",
    "    \n",
    "    docs = []\n",
    "    for i in range(1, 7):\n",
    "\n",
    "        topic_url = topic + str(i)\n",
    "        \n",
    "        # Get the HTML page content using requests\n",
    "        response = requests.get(topic_url)\n",
    "    \n",
    "        # Ensure that the reponse is valid\n",
    "        if response.status_code != 200:\n",
    "            print('Status code:', response.status_code)\n",
    "            raise Exception('Failed to fetch web page ' + topic_url)\n",
    "\n",
    "        # Construct a beautiful soup document\n",
    "        doc = BeautifulSoup(response.text, 'html.parser')\n",
    "        \n",
    "        docs.append(doc)\n",
    "    \n",
    "    return docs\n",
    "\n",
    "\n",
    "# Function to parse Multiple pages\n",
    "def parse_pages(soup):\n",
    "        books = soup.find_all('div', class_= 'zg-grid-general-faceout')\n",
    "        \n",
    "        topic_books = [ parse_books(book) for book in books ]\n",
    "       \n",
    "        return topic_books\n",
    "\n",
    "def write_csv(items, path):\n",
    "    \"\"\"Write a list of dictionaries to a CSV file\"\"\"\n",
    "    with open(path, 'w') as f:\n",
    "        if len(items) == 0:\n",
    "            return\n",
    "        headers = list(items[0].keys())\n",
    "        f.write(','.join(headers) + '\\n')\n",
    "        for item in items:\n",
    "            if item==None:\n",
    "                pass\n",
    "            else:\n",
    "                values = []\n",
    "                for header in headers:\n",
    "                    values.append(item.get(header, \"\"))\n",
    "                f.write(','.join(values) + \"\\n\")\n",
    "    \n",
    "\n",
    "def scrape_topic_books(topic, path=None):\n",
    "    # topic is nothing but url of pages\n",
    "    \"\"\"Get the top repositories for a topic and write them to a CSV file\"\"\"\n",
    "    \n",
    "    if path is None:\n",
    "        path = topic + '.csv'\n",
    "        \n",
    "    topic_url = all_book_links[topic]\n",
    "    \n",
    "    topic_page_docs = get_topic_page(topic_url)\n",
    "    topic_books = []\n",
    "    for doc in topic_page_docs:\n",
    "        topic_books = topic_books + parse_pages(doc)\n",
    "\n",
    "   \n",
    "    write_csv(topic_books, path)\n",
    "    print('Top repositories for topic \"{}\" written to file \"{}\"'.format(topic, path))\n",
    "    return path"
   ]
  },
  {
   "cell_type": "code",
   "execution_count": 71,
   "id": "5e010de3",
   "metadata": {
    "scrolled": false
   },
   "outputs": [
    {
     "name": "stdout",
     "output_type": "stream",
     "text": [
      "Top repositories for topic \"School Books\" written to file \"School Books.csv\"\n"
     ]
    },
    {
     "data": {
      "text/plain": [
       "'School Books.csv'"
      ]
     },
     "execution_count": 71,
     "metadata": {},
     "output_type": "execute_result"
    }
   ],
   "source": [
    "scrape_topic_books('School Books')"
   ]
  },
  {
   "cell_type": "markdown",
   "id": "73b20343",
   "metadata": {},
   "source": [
    "We can use the pandas library to see the contents of our `CSV` file now that we have one."
   ]
  },
  {
   "cell_type": "code",
   "execution_count": 72,
   "id": "7966f725",
   "metadata": {},
   "outputs": [],
   "source": [
    "# Importing the library Pandas\n",
    "import pandas as pd"
   ]
  },
  {
   "cell_type": "markdown",
   "id": "084f3e01",
   "metadata": {},
   "source": [
    "Using Pandas Library to view the content"
   ]
  },
  {
   "cell_type": "code",
   "execution_count": 73,
   "id": "cb199162",
   "metadata": {},
   "outputs": [
    {
     "data": {
      "text/html": [
       "<div>\n",
       "<style scoped>\n",
       "    .dataframe tbody tr th:only-of-type {\n",
       "        vertical-align: middle;\n",
       "    }\n",
       "\n",
       "    .dataframe tbody tr th {\n",
       "        vertical-align: top;\n",
       "    }\n",
       "\n",
       "    .dataframe thead th {\n",
       "        text-align: right;\n",
       "    }\n",
       "</style>\n",
       "<table border=\"1\" class=\"dataframe\">\n",
       "  <thead>\n",
       "    <tr style=\"text-align: right;\">\n",
       "      <th></th>\n",
       "      <th>book name</th>\n",
       "      <th>book author</th>\n",
       "      <th>book url</th>\n",
       "      <th>book rating</th>\n",
       "    </tr>\n",
       "  </thead>\n",
       "  <tbody>\n",
       "    <tr>\n",
       "      <th>0</th>\n",
       "      <td>Oxford Student Atlas for India, Fourth Edition...</td>\n",
       "      <td>Oxford University Press</td>\n",
       "      <td>https://www.amazon.in/Oxford-Student-Atlas-Ind...</td>\n",
       "      <td>4.4 out of 5 stars</td>\n",
       "    </tr>\n",
       "    <tr>\n",
       "      <th>1</th>\n",
       "      <td>Concept of Physics by H.C Verma Part - I - Ses...</td>\n",
       "      <td>H.C. Verma</td>\n",
       "      <td>https://www.amazon.in/Concept-Physics-Part-1-2...</td>\n",
       "      <td>4.6 out of 5 stars</td>\n",
       "    </tr>\n",
       "    <tr>\n",
       "      <th>2</th>\n",
       "      <td>CBSE All In One Social Science Class 10 2022-2...</td>\n",
       "      <td>Farah Sultan Madhumita Pattrea</td>\n",
       "      <td>https://www.amazon.in/Social-Science-2022-23-l...</td>\n",
       "      <td>4.2 out of 5 stars</td>\n",
       "    </tr>\n",
       "    <tr>\n",
       "      <th>3</th>\n",
       "      <td>Mathematics for Class 10 - CBSE - by R.D. Shar...</td>\n",
       "      <td>R.D. Sharma</td>\n",
       "      <td>https://www.amazon.in/Mathematics-Class-10-Exa...</td>\n",
       "      <td>4.5 out of 5 stars</td>\n",
       "    </tr>\n",
       "    <tr>\n",
       "      <th>4</th>\n",
       "      <td>CBSE All In One Science Class 10 2022-23 Editi...</td>\n",
       "      <td>Rashmi Gupta Sonal Singh ,Ruchi Kapoor,Imran A...</td>\n",
       "      <td>https://www.amazon.in/Science-2022-23-latest-S...</td>\n",
       "      <td>4.4 out of 5 stars</td>\n",
       "    </tr>\n",
       "    <tr>\n",
       "      <th>...</th>\n",
       "      <td>...</td>\n",
       "      <td>...</td>\n",
       "      <td>...</td>\n",
       "      <td>...</td>\n",
       "    </tr>\n",
       "    <tr>\n",
       "      <th>283</th>\n",
       "      <td>International English Olympiad (IEO) Work Book...</td>\n",
       "      <td>ZARRIN ALI KHAN</td>\n",
       "      <td>https://www.amazon.in/International-English-Ol...</td>\n",
       "      <td>4.2 out of 5 stars</td>\n",
       "    </tr>\n",
       "    <tr>\n",
       "      <th>284</th>\n",
       "      <td>Physics Galaxy 2020-21: Electrostatics &amp; Curre...</td>\n",
       "      <td>Ashish Arora</td>\n",
       "      <td>https://www.amazon.in/Physics-Galaxy-2020-21-E...</td>\n",
       "      <td>4.5 out of 5 stars</td>\n",
       "    </tr>\n",
       "    <tr>\n",
       "      <th>285</th>\n",
       "      <td>CBSE All In One Information Technology (Code 4...</td>\n",
       "      <td>Shweta Agarwal Neetu Gaikwad</td>\n",
       "      <td>https://www.amazon.in/Information-Technology-2...</td>\n",
       "      <td>4.7 out of 5 stars</td>\n",
       "    </tr>\n",
       "    <tr>\n",
       "      <th>286</th>\n",
       "      <td>WORKBOOK MATH CBSE- CLASS 5TH</td>\n",
       "      <td>Arihant Experts</td>\n",
       "      <td>https://www.amazon.in/CBSE-WORKBOOK-MATH-CLASS...</td>\n",
       "      <td>4.3 out of 5 stars</td>\n",
       "    </tr>\n",
       "    <tr>\n",
       "      <th>287</th>\n",
       "      <td>Ncert Mathematics Part I + Part II Class 12 (O...</td>\n",
       "      <td>NCERT</td>\n",
       "      <td>https://www.amazon.in/Ncert-Mathematics-Part-C...</td>\n",
       "      <td>4.3 out of 5 stars</td>\n",
       "    </tr>\n",
       "  </tbody>\n",
       "</table>\n",
       "<p>288 rows × 4 columns</p>\n",
       "</div>"
      ],
      "text/plain": [
       "                                             book name  \\\n",
       "0    Oxford Student Atlas for India, Fourth Edition...   \n",
       "1    Concept of Physics by H.C Verma Part - I - Ses...   \n",
       "2    CBSE All In One Social Science Class 10 2022-2...   \n",
       "3    Mathematics for Class 10 - CBSE - by R.D. Shar...   \n",
       "4    CBSE All In One Science Class 10 2022-23 Editi...   \n",
       "..                                                 ...   \n",
       "283  International English Olympiad (IEO) Work Book...   \n",
       "284  Physics Galaxy 2020-21: Electrostatics & Curre...   \n",
       "285  CBSE All In One Information Technology (Code 4...   \n",
       "286                      WORKBOOK MATH CBSE- CLASS 5TH   \n",
       "287  Ncert Mathematics Part I + Part II Class 12 (O...   \n",
       "\n",
       "                                           book author  \\\n",
       "0                              Oxford University Press   \n",
       "1                                           H.C. Verma   \n",
       "2                       Farah Sultan Madhumita Pattrea   \n",
       "3                                          R.D. Sharma   \n",
       "4    Rashmi Gupta Sonal Singh ,Ruchi Kapoor,Imran A...   \n",
       "..                                                 ...   \n",
       "283                                    ZARRIN ALI KHAN   \n",
       "284                                       Ashish Arora   \n",
       "285                       Shweta Agarwal Neetu Gaikwad   \n",
       "286                                    Arihant Experts   \n",
       "287                                              NCERT   \n",
       "\n",
       "                                              book url         book rating  \n",
       "0    https://www.amazon.in/Oxford-Student-Atlas-Ind...  4.4 out of 5 stars  \n",
       "1    https://www.amazon.in/Concept-Physics-Part-1-2...  4.6 out of 5 stars  \n",
       "2    https://www.amazon.in/Social-Science-2022-23-l...  4.2 out of 5 stars  \n",
       "3    https://www.amazon.in/Mathematics-Class-10-Exa...  4.5 out of 5 stars  \n",
       "4    https://www.amazon.in/Science-2022-23-latest-S...  4.4 out of 5 stars  \n",
       "..                                                 ...                 ...  \n",
       "283  https://www.amazon.in/International-English-Ol...  4.2 out of 5 stars  \n",
       "284  https://www.amazon.in/Physics-Galaxy-2020-21-E...  4.5 out of 5 stars  \n",
       "285  https://www.amazon.in/Information-Technology-2...  4.7 out of 5 stars  \n",
       "286  https://www.amazon.in/CBSE-WORKBOOK-MATH-CLASS...  4.3 out of 5 stars  \n",
       "287  https://www.amazon.in/Ncert-Mathematics-Part-C...  4.3 out of 5 stars  \n",
       "\n",
       "[288 rows x 4 columns]"
      ]
     },
     "execution_count": 73,
     "metadata": {},
     "output_type": "execute_result"
    }
   ],
   "source": [
    "k=[x for x in topic_books if x is not None]\n",
    "pd.DataFrame.from_dict(k)"
   ]
  },
  {
   "cell_type": "code",
   "execution_count": 74,
   "id": "bc8ee317",
   "metadata": {},
   "outputs": [
    {
     "data": {
      "application/javascript": [
       "window.require && require([\"base/js/namespace\"],function(Jupyter){Jupyter.notebook.save_checkpoint()})"
      ],
      "text/plain": [
       "<IPython.core.display.Javascript object>"
      ]
     },
     "metadata": {},
     "output_type": "display_data"
    },
    {
     "name": "stdout",
     "output_type": "stream",
     "text": [
      "[jovian] Updating notebook \"yogi-varmavatsa/yogendra-web-scrapping-amazon-books\" on https://jovian.ai\u001b[0m\n",
      "[jovian] Uploading additional files...\u001b[0m\n",
      "[jovian] Committed successfully! https://jovian.ai/yogi-varmavatsa/yogendra-web-scrapping-amazon-books\u001b[0m\n"
     ]
    },
    {
     "data": {
      "text/plain": [
       "'https://jovian.ai/yogi-varmavatsa/yogendra-web-scrapping-amazon-books'"
      ]
     },
     "execution_count": 74,
     "metadata": {},
     "output_type": "execute_result"
    }
   ],
   "source": [
    "jovian.commit(files=['School Books.csv'])"
   ]
  },
  {
   "cell_type": "markdown",
   "id": "4e81ed6f",
   "metadata": {},
   "source": [
    "Now, let us try to scrape the \"Action Books\""
   ]
  },
  {
   "cell_type": "code",
   "execution_count": 80,
   "id": "61f82faf",
   "metadata": {},
   "outputs": [
    {
     "name": "stdout",
     "output_type": "stream",
     "text": [
      "Top repositories for topic \"Action Books\" written to file \"Action Books.csv\"\n"
     ]
    },
    {
     "data": {
      "text/plain": [
       "'Action Books.csv'"
      ]
     },
     "execution_count": 80,
     "metadata": {},
     "output_type": "execute_result"
    }
   ],
   "source": [
    "scrape_topic_books('Action Books')"
   ]
  },
  {
   "cell_type": "markdown",
   "id": "0b4bf2d5",
   "metadata": {},
   "source": [
    "Using Pandas library to view the content"
   ]
  },
  {
   "cell_type": "code",
   "execution_count": 81,
   "id": "6e76ce3b",
   "metadata": {},
   "outputs": [
    {
     "data": {
      "text/html": [
       "<div>\n",
       "<style scoped>\n",
       "    .dataframe tbody tr th:only-of-type {\n",
       "        vertical-align: middle;\n",
       "    }\n",
       "\n",
       "    .dataframe tbody tr th {\n",
       "        vertical-align: top;\n",
       "    }\n",
       "\n",
       "    .dataframe thead th {\n",
       "        text-align: right;\n",
       "    }\n",
       "</style>\n",
       "<table border=\"1\" class=\"dataframe\">\n",
       "  <thead>\n",
       "    <tr style=\"text-align: right;\">\n",
       "      <th></th>\n",
       "      <th>book name</th>\n",
       "      <th>book author</th>\n",
       "      <th>book url</th>\n",
       "      <th>book rating</th>\n",
       "    </tr>\n",
       "  </thead>\n",
       "  <tbody>\n",
       "    <tr>\n",
       "      <th>0</th>\n",
       "      <td>Harry Potter and the Philosopher's Stone</td>\n",
       "      <td>J.K. Rowling</td>\n",
       "      <td>https://www.amazon.in/Harry-Potter-Philosopher...</td>\n",
       "      <td>4.7 out of 5 stars</td>\n",
       "    </tr>\n",
       "    <tr>\n",
       "      <th>1</th>\n",
       "      <td>The Accidental Minecraft Family: Book 27</td>\n",
       "      <td>Pixel Ate</td>\n",
       "      <td>https://www.amazon.in/Accidental-Minecraft-Fam...</td>\n",
       "      <td>5.0 out of 5 stars</td>\n",
       "    </tr>\n",
       "    <tr>\n",
       "      <th>2</th>\n",
       "      <td>Harry Potter Box Set: The Complete Collection ...</td>\n",
       "      <td>J.K. Rowling</td>\n",
       "      <td>https://www.amazon.in/Harry-Potter-ChildrenS-P...</td>\n",
       "      <td>4.7 out of 5 stars</td>\n",
       "    </tr>\n",
       "    <tr>\n",
       "      <th>3</th>\n",
       "      <td>The Jungle Book (Campbell First Stories) (Camp...</td>\n",
       "      <td>Miriam Bos</td>\n",
       "      <td>https://www.amazon.in/Jungle-Book-First-Storie...</td>\n",
       "      <td>4.5 out of 5 stars</td>\n",
       "    </tr>\n",
       "    <tr>\n",
       "      <th>4</th>\n",
       "      <td>Harry Potter and the Chamber of Secrets</td>\n",
       "      <td>J.K. Rowling</td>\n",
       "      <td>https://www.amazon.in/Harry-Potter-Chamber-Sec...</td>\n",
       "      <td>4.7 out of 5 stars</td>\n",
       "    </tr>\n",
       "    <tr>\n",
       "      <th>...</th>\n",
       "      <td>...</td>\n",
       "      <td>...</td>\n",
       "      <td>...</td>\n",
       "      <td>...</td>\n",
       "    </tr>\n",
       "    <tr>\n",
       "      <th>291</th>\n",
       "      <td>The Hardy Boys 03: The Secret of the Old Mill</td>\n",
       "      <td>Franklin W. Dixon</td>\n",
       "      <td>https://www.amazon.in/Hardy-Boys-03-Secret-Mil...</td>\n",
       "      <td>4.6 out of 5 stars</td>\n",
       "    </tr>\n",
       "    <tr>\n",
       "      <th>292</th>\n",
       "      <td>Marvel's Avengers: Age of Ultron: The Reusable...</td>\n",
       "      <td>Charles Cho</td>\n",
       "      <td>https://www.amazon.in/Marvels-Avengers-Ultron-...</td>\n",
       "      <td>4.0 out of 5 stars</td>\n",
       "    </tr>\n",
       "    <tr>\n",
       "      <th>293</th>\n",
       "      <td>The Ballad of Winston the Wandering Trader, Bo...</td>\n",
       "      <td>Dr. Block</td>\n",
       "      <td>https://www.amazon.in/Ballad-Winston-Wandering...</td>\n",
       "      <td>4.8 out of 5 stars</td>\n",
       "    </tr>\n",
       "    <tr>\n",
       "      <th>294</th>\n",
       "      <td>The Lord of the Rings: The Return of the King:...</td>\n",
       "      <td>J.R.R. Tolkien</td>\n",
       "      <td>https://www.amazon.in/Lord-Rings-Return-King/d...</td>\n",
       "      <td>4.8 out of 5 stars</td>\n",
       "    </tr>\n",
       "    <tr>\n",
       "      <th>295</th>\n",
       "      <td>Where's Waldo? The Wonder Book</td>\n",
       "      <td>Martin Handford</td>\n",
       "      <td>https://www.amazon.in/Wheres-Waldo-Wonder-Mart...</td>\n",
       "      <td>4.8 out of 5 stars</td>\n",
       "    </tr>\n",
       "  </tbody>\n",
       "</table>\n",
       "<p>296 rows × 4 columns</p>\n",
       "</div>"
      ],
      "text/plain": [
       "                                             book name        book author  \\\n",
       "0             Harry Potter and the Philosopher's Stone       J.K. Rowling   \n",
       "1             The Accidental Minecraft Family: Book 27          Pixel Ate   \n",
       "2    Harry Potter Box Set: The Complete Collection ...       J.K. Rowling   \n",
       "3    The Jungle Book (Campbell First Stories) (Camp...         Miriam Bos   \n",
       "4              Harry Potter and the Chamber of Secrets       J.K. Rowling   \n",
       "..                                                 ...                ...   \n",
       "291      The Hardy Boys 03: The Secret of the Old Mill  Franklin W. Dixon   \n",
       "292  Marvel's Avengers: Age of Ultron: The Reusable...        Charles Cho   \n",
       "293  The Ballad of Winston the Wandering Trader, Bo...          Dr. Block   \n",
       "294  The Lord of the Rings: The Return of the King:...     J.R.R. Tolkien   \n",
       "295                     Where's Waldo? The Wonder Book    Martin Handford   \n",
       "\n",
       "                                              book url         book rating  \n",
       "0    https://www.amazon.in/Harry-Potter-Philosopher...  4.7 out of 5 stars  \n",
       "1    https://www.amazon.in/Accidental-Minecraft-Fam...  5.0 out of 5 stars  \n",
       "2    https://www.amazon.in/Harry-Potter-ChildrenS-P...  4.7 out of 5 stars  \n",
       "3    https://www.amazon.in/Jungle-Book-First-Storie...  4.5 out of 5 stars  \n",
       "4    https://www.amazon.in/Harry-Potter-Chamber-Sec...  4.7 out of 5 stars  \n",
       "..                                                 ...                 ...  \n",
       "291  https://www.amazon.in/Hardy-Boys-03-Secret-Mil...  4.6 out of 5 stars  \n",
       "292  https://www.amazon.in/Marvels-Avengers-Ultron-...  4.0 out of 5 stars  \n",
       "293  https://www.amazon.in/Ballad-Winston-Wandering...  4.8 out of 5 stars  \n",
       "294  https://www.amazon.in/Lord-Rings-Return-King/d...  4.8 out of 5 stars  \n",
       "295  https://www.amazon.in/Wheres-Waldo-Wonder-Mart...  4.8 out of 5 stars  \n",
       "\n",
       "[296 rows x 4 columns]"
      ]
     },
     "execution_count": 81,
     "metadata": {},
     "output_type": "execute_result"
    }
   ],
   "source": [
    "k=[x for x in topic_books2 if x is not None]\n",
    "pd.DataFrame.from_dict(k)"
   ]
  },
  {
   "cell_type": "code",
   "execution_count": 83,
   "id": "bbb348e1",
   "metadata": {
    "scrolled": true
   },
   "outputs": [
    {
     "data": {
      "application/javascript": [
       "window.require && require([\"base/js/namespace\"],function(Jupyter){Jupyter.notebook.save_checkpoint()})"
      ],
      "text/plain": [
       "<IPython.core.display.Javascript object>"
      ]
     },
     "metadata": {},
     "output_type": "display_data"
    },
    {
     "name": "stdout",
     "output_type": "stream",
     "text": [
      "[jovian] Updating notebook \"yogi-varmavatsa/yogendra-web-scrapping-amazon-books\" on https://jovian.ai\u001b[0m\n",
      "[jovian] Uploading additional files...\u001b[0m\n",
      "[jovian] Committed successfully! https://jovian.ai/yogi-varmavatsa/yogendra-web-scrapping-amazon-books\u001b[0m\n"
     ]
    },
    {
     "data": {
      "text/plain": [
       "'https://jovian.ai/yogi-varmavatsa/yogendra-web-scrapping-amazon-books'"
      ]
     },
     "execution_count": 83,
     "metadata": {},
     "output_type": "execute_result"
    }
   ],
   "source": [
    "jovian.commit(files=['Action Books.csv'])"
   ]
  },
  {
   "cell_type": "markdown",
   "id": "0c2842a4",
   "metadata": {},
   "source": [
    "Using the above written function, we can now scrape any genre of books."
   ]
  },
  {
   "cell_type": "markdown",
   "id": "c6dc9b13",
   "metadata": {},
   "source": [
    "### Summary and Further Reading"
   ]
  },
  {
   "cell_type": "markdown",
   "id": "ec2fea00",
   "metadata": {},
   "source": [
    "We've understood the following in web-scraping:\n",
    "\n",
    "1. Downloading web pages using the requests library\n",
    "2. Inspecting the HTML source code of a web page\n",
    "3. Parsing parts of a website using Beautiful Soup\n",
    "4. Writing parsed information into CSV les"
   ]
  },
  {
   "cell_type": "markdown",
   "id": "806abe5e",
   "metadata": {},
   "source": [
    "### Future Work"
   ]
  },
  {
   "cell_type": "markdown",
   "id": "592dc819",
   "metadata": {},
   "source": [
    "1) In order to extract useful information from this data, we may now move forward and investigate it more thoroughly.   \n",
    "2) With all the above information, we can come up with a decision of picking a book that suits our interest."
   ]
  },
  {
   "cell_type": "markdown",
   "id": "beb4d5a2",
   "metadata": {},
   "source": [
    "### References"
   ]
  },
  {
   "cell_type": "markdown",
   "id": "5fd76012",
   "metadata": {},
   "source": [
    "1) Amazon books website https://www.amazon.in/gp/bestsellers/books/\n",
    "\n",
    "2) Aakash N S, Introduction to Web Scraping https://jovian.ai/learn/zero-to-data-analyst-bootcamp/lesson/web-scraping-and-rest-apis\n",
    "\n",
    "3) Pandas library documentation. https://pandas.pydata.org/docs/\n",
    "\n",
    "4) Requests library. https://pypi.org/project/requests/\n",
    "\n",
    "5) Beautiful Soup documentation. https://www.crummy.com/software/BeautifulSoup/bs4/doc/\n",
    "\n",
    "6) Python ocal documentation. https://docs.python.org/3/\n",
    "\n",
    "7) Few Google Images"
   ]
  }
 ],
 "metadata": {
  "kernelspec": {
   "display_name": "Python 3 (ipykernel)",
   "language": "python",
   "name": "python3"
  },
  "language_info": {
   "codemirror_mode": {
    "name": "ipython",
    "version": 3
   },
   "file_extension": ".py",
   "mimetype": "text/x-python",
   "name": "python",
   "nbconvert_exporter": "python",
   "pygments_lexer": "ipython3",
   "version": "3.9.6"
  }
 },
 "nbformat": 4,
 "nbformat_minor": 5
}
